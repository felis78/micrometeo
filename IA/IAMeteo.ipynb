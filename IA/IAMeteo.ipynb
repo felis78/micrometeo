{
 "cells": [
  {
   "cell_type": "code",
   "execution_count": 10,
   "metadata": {
    "collapsed": true
   },
   "outputs": [
    {
     "data": {
      "text/plain": "       numer_sta            date    pmer tend cod_tend   dd        ff  \\\n0           7005  20220301000000  102680  -50        6  130  3.000000   \n1           7015  20220301000000  102730  -70        7  140  2.400000   \n2           7020  20220301000000  102390  -20        8  180  8.400000   \n3           7027  20220301000000  102580  -30        8  130  2.500000   \n4           7037  20220301000000  102630  -50        8  140  3.800000   \n...          ...             ...     ...  ...      ...  ...       ...   \n14779      81401  20220831210000  100960    0        5  250  2.200000   \n14780      81405  20220831210000  100920  -70        6   70  3.600000   \n14781      81408  20220831210000  100960   10        8   70  1.600000   \n14782      81415  20220831210000      mq   mq       mq  150  0.700000   \n14783      89642  20220831210000   96370  -80        8  160  8.200000   \n\n                t          td   u  ... nnuage2 ctype2 hnuage2 nnuage3 ctype3  \\\n0      279.150000  271.950000  60  ...      mq     mq      mq      mq     mq   \n1      276.350000  272.150000  74  ...      mq     mq      mq      mq     mq   \n2      282.850000  282.050000  95  ...      mq     mq      mq      mq     mq   \n3      281.650000  280.550000  93  ...       7     mq    1470       8     mq   \n4      279.550000  271.150000  55  ...       7     mq    6600      mq     mq   \n...           ...         ...  ..  ...     ...    ...     ...     ...    ...   \n14779  297.650000  295.750000  89  ...      mq     mq      mq      mq     mq   \n14780  301.350000  297.950000  82  ...       3     mq    3660      mq      9   \n14781  297.950000  296.350000  91  ...      mq     mq      mq      mq     mq   \n14782  304.550000  295.550000  59  ...      mq     mq      mq      mq     mq   \n14783  255.050000  248.550000  53  ...      mq     mq      mq      mq     mq   \n\n      hnuage3 nnuage4 ctype4 hnuage4 Unnamed: 59  \n0          mq      mq     mq      mq         NaN  \n1          mq      mq     mq      mq         NaN  \n2          mq      mq     mq      mq         NaN  \n3        1980      mq      8      mq         NaN  \n4          mq      mq     mq      mq         NaN  \n...       ...     ...    ...     ...         ...  \n14779      mq      mq     mq      mq         NaN  \n14780      mq      mq     mq      mq         NaN  \n14781      mq      mq     mq      mq         NaN  \n14782      mq      mq     mq      mq         NaN  \n14783      mq      mq     mq      mq         NaN  \n\n[188038 rows x 60 columns]",
      "text/html": "<div>\n<style scoped>\n    .dataframe tbody tr th:only-of-type {\n        vertical-align: middle;\n    }\n\n    .dataframe tbody tr th {\n        vertical-align: top;\n    }\n\n    .dataframe thead th {\n        text-align: right;\n    }\n</style>\n<table border=\"1\" class=\"dataframe\">\n  <thead>\n    <tr style=\"text-align: right;\">\n      <th></th>\n      <th>numer_sta</th>\n      <th>date</th>\n      <th>pmer</th>\n      <th>tend</th>\n      <th>cod_tend</th>\n      <th>dd</th>\n      <th>ff</th>\n      <th>t</th>\n      <th>td</th>\n      <th>u</th>\n      <th>...</th>\n      <th>nnuage2</th>\n      <th>ctype2</th>\n      <th>hnuage2</th>\n      <th>nnuage3</th>\n      <th>ctype3</th>\n      <th>hnuage3</th>\n      <th>nnuage4</th>\n      <th>ctype4</th>\n      <th>hnuage4</th>\n      <th>Unnamed: 59</th>\n    </tr>\n  </thead>\n  <tbody>\n    <tr>\n      <th>0</th>\n      <td>7005</td>\n      <td>20220301000000</td>\n      <td>102680</td>\n      <td>-50</td>\n      <td>6</td>\n      <td>130</td>\n      <td>3.000000</td>\n      <td>279.150000</td>\n      <td>271.950000</td>\n      <td>60</td>\n      <td>...</td>\n      <td>mq</td>\n      <td>mq</td>\n      <td>mq</td>\n      <td>mq</td>\n      <td>mq</td>\n      <td>mq</td>\n      <td>mq</td>\n      <td>mq</td>\n      <td>mq</td>\n      <td>NaN</td>\n    </tr>\n    <tr>\n      <th>1</th>\n      <td>7015</td>\n      <td>20220301000000</td>\n      <td>102730</td>\n      <td>-70</td>\n      <td>7</td>\n      <td>140</td>\n      <td>2.400000</td>\n      <td>276.350000</td>\n      <td>272.150000</td>\n      <td>74</td>\n      <td>...</td>\n      <td>mq</td>\n      <td>mq</td>\n      <td>mq</td>\n      <td>mq</td>\n      <td>mq</td>\n      <td>mq</td>\n      <td>mq</td>\n      <td>mq</td>\n      <td>mq</td>\n      <td>NaN</td>\n    </tr>\n    <tr>\n      <th>2</th>\n      <td>7020</td>\n      <td>20220301000000</td>\n      <td>102390</td>\n      <td>-20</td>\n      <td>8</td>\n      <td>180</td>\n      <td>8.400000</td>\n      <td>282.850000</td>\n      <td>282.050000</td>\n      <td>95</td>\n      <td>...</td>\n      <td>mq</td>\n      <td>mq</td>\n      <td>mq</td>\n      <td>mq</td>\n      <td>mq</td>\n      <td>mq</td>\n      <td>mq</td>\n      <td>mq</td>\n      <td>mq</td>\n      <td>NaN</td>\n    </tr>\n    <tr>\n      <th>3</th>\n      <td>7027</td>\n      <td>20220301000000</td>\n      <td>102580</td>\n      <td>-30</td>\n      <td>8</td>\n      <td>130</td>\n      <td>2.500000</td>\n      <td>281.650000</td>\n      <td>280.550000</td>\n      <td>93</td>\n      <td>...</td>\n      <td>7</td>\n      <td>mq</td>\n      <td>1470</td>\n      <td>8</td>\n      <td>mq</td>\n      <td>1980</td>\n      <td>mq</td>\n      <td>8</td>\n      <td>mq</td>\n      <td>NaN</td>\n    </tr>\n    <tr>\n      <th>4</th>\n      <td>7037</td>\n      <td>20220301000000</td>\n      <td>102630</td>\n      <td>-50</td>\n      <td>8</td>\n      <td>140</td>\n      <td>3.800000</td>\n      <td>279.550000</td>\n      <td>271.150000</td>\n      <td>55</td>\n      <td>...</td>\n      <td>7</td>\n      <td>mq</td>\n      <td>6600</td>\n      <td>mq</td>\n      <td>mq</td>\n      <td>mq</td>\n      <td>mq</td>\n      <td>mq</td>\n      <td>mq</td>\n      <td>NaN</td>\n    </tr>\n    <tr>\n      <th>...</th>\n      <td>...</td>\n      <td>...</td>\n      <td>...</td>\n      <td>...</td>\n      <td>...</td>\n      <td>...</td>\n      <td>...</td>\n      <td>...</td>\n      <td>...</td>\n      <td>...</td>\n      <td>...</td>\n      <td>...</td>\n      <td>...</td>\n      <td>...</td>\n      <td>...</td>\n      <td>...</td>\n      <td>...</td>\n      <td>...</td>\n      <td>...</td>\n      <td>...</td>\n      <td>...</td>\n    </tr>\n    <tr>\n      <th>14779</th>\n      <td>81401</td>\n      <td>20220831210000</td>\n      <td>100960</td>\n      <td>0</td>\n      <td>5</td>\n      <td>250</td>\n      <td>2.200000</td>\n      <td>297.650000</td>\n      <td>295.750000</td>\n      <td>89</td>\n      <td>...</td>\n      <td>mq</td>\n      <td>mq</td>\n      <td>mq</td>\n      <td>mq</td>\n      <td>mq</td>\n      <td>mq</td>\n      <td>mq</td>\n      <td>mq</td>\n      <td>mq</td>\n      <td>NaN</td>\n    </tr>\n    <tr>\n      <th>14780</th>\n      <td>81405</td>\n      <td>20220831210000</td>\n      <td>100920</td>\n      <td>-70</td>\n      <td>6</td>\n      <td>70</td>\n      <td>3.600000</td>\n      <td>301.350000</td>\n      <td>297.950000</td>\n      <td>82</td>\n      <td>...</td>\n      <td>3</td>\n      <td>mq</td>\n      <td>3660</td>\n      <td>mq</td>\n      <td>9</td>\n      <td>mq</td>\n      <td>mq</td>\n      <td>mq</td>\n      <td>mq</td>\n      <td>NaN</td>\n    </tr>\n    <tr>\n      <th>14781</th>\n      <td>81408</td>\n      <td>20220831210000</td>\n      <td>100960</td>\n      <td>10</td>\n      <td>8</td>\n      <td>70</td>\n      <td>1.600000</td>\n      <td>297.950000</td>\n      <td>296.350000</td>\n      <td>91</td>\n      <td>...</td>\n      <td>mq</td>\n      <td>mq</td>\n      <td>mq</td>\n      <td>mq</td>\n      <td>mq</td>\n      <td>mq</td>\n      <td>mq</td>\n      <td>mq</td>\n      <td>mq</td>\n      <td>NaN</td>\n    </tr>\n    <tr>\n      <th>14782</th>\n      <td>81415</td>\n      <td>20220831210000</td>\n      <td>mq</td>\n      <td>mq</td>\n      <td>mq</td>\n      <td>150</td>\n      <td>0.700000</td>\n      <td>304.550000</td>\n      <td>295.550000</td>\n      <td>59</td>\n      <td>...</td>\n      <td>mq</td>\n      <td>mq</td>\n      <td>mq</td>\n      <td>mq</td>\n      <td>mq</td>\n      <td>mq</td>\n      <td>mq</td>\n      <td>mq</td>\n      <td>mq</td>\n      <td>NaN</td>\n    </tr>\n    <tr>\n      <th>14783</th>\n      <td>89642</td>\n      <td>20220831210000</td>\n      <td>96370</td>\n      <td>-80</td>\n      <td>8</td>\n      <td>160</td>\n      <td>8.200000</td>\n      <td>255.050000</td>\n      <td>248.550000</td>\n      <td>53</td>\n      <td>...</td>\n      <td>mq</td>\n      <td>mq</td>\n      <td>mq</td>\n      <td>mq</td>\n      <td>mq</td>\n      <td>mq</td>\n      <td>mq</td>\n      <td>mq</td>\n      <td>mq</td>\n      <td>NaN</td>\n    </tr>\n  </tbody>\n</table>\n<p>188038 rows × 60 columns</p>\n</div>"
     },
     "execution_count": 10,
     "metadata": {},
     "output_type": "execute_result"
    }
   ],
   "source": [
    "import numpy as np\n",
    "import pandas as pd\n",
    "import os\n",
    "\n",
    "\n",
    "datas_list = []\n",
    "liste = os.listdir(\"meteo-csv\") #recuperation des noms des fichiers\n",
    "\n",
    "df_array = []\n",
    "for names in liste: #assemblage de tout le contenu des fichiers dans un tableau de df\n",
    "    truc = pd.read_csv('meteo-csv/' + names, sep=';')\n",
    "    df_array.append(truc)\n",
    "\n",
    "df = pd.concat(df_array) #création dune dataframe complete\n",
    "df"
   ]
  },
  {
   "cell_type": "code",
   "execution_count": 11,
   "outputs": [],
   "source": [
    "df = df.loc[:,['t', 'u', 'pres']] #récupération des valeurs qui nous interessent\n",
    "df.drop(df.loc[df['t']=='mq'].index, inplace=True) #suppression des lignes sans valeurs (='mq')\n",
    "df['t'] = pd.to_numeric(df['t'], downcast='float') #conversion des valeurs de la colonne 't' en float\n",
    "df['t'] = df['t'] -273.15 #passage des degrés kelvin aux celsius\n",
    "df = df.assign(status = 0)\n",
    "df.to_csv('datas', index = False)"
   ],
   "metadata": {
    "collapsed": false
   }
  },
  {
   "cell_type": "code",
   "execution_count": 8,
   "outputs": [
    {
     "ename": "ValueError",
     "evalue": "Unable to parse string \"mq\" at position 2988",
     "output_type": "error",
     "traceback": [
      "\u001B[0;31m---------------------------------------------------------------------------\u001B[0m",
      "\u001B[0;31mValueError\u001B[0m                                Traceback (most recent call last)",
      "File \u001B[0;32m~/renduEpitech/MeteoProject/lib/python3.10/site-packages/pandas/_libs/lib.pyx:2369\u001B[0m, in \u001B[0;36mpandas._libs.lib.maybe_convert_numeric\u001B[0;34m()\u001B[0m\n",
      "\u001B[0;31mValueError\u001B[0m: Unable to parse string \"mq\"",
      "\nDuring handling of the above exception, another exception occurred:\n",
      "\u001B[0;31mValueError\u001B[0m                                Traceback (most recent call last)",
      "Cell \u001B[0;32mIn[8], line 2\u001B[0m\n\u001B[1;32m      1\u001B[0m \u001B[38;5;28;01mimport\u001B[39;00m \u001B[38;5;21;01mnumpy\u001B[39;00m \u001B[38;5;28;01mas\u001B[39;00m \u001B[38;5;21;01mnp\u001B[39;00m\n\u001B[0;32m----> 2\u001B[0m df[\u001B[38;5;124m'\u001B[39m\u001B[38;5;124mt\u001B[39m\u001B[38;5;124m'\u001B[39m] \u001B[38;5;241m=\u001B[39m \u001B[43mpd\u001B[49m\u001B[38;5;241;43m.\u001B[39;49m\u001B[43mto_numeric\u001B[49m\u001B[43m(\u001B[49m\u001B[43mdf\u001B[49m\u001B[43m[\u001B[49m\u001B[38;5;124;43m'\u001B[39;49m\u001B[38;5;124;43mpres\u001B[39;49m\u001B[38;5;124;43m'\u001B[39;49m\u001B[43m]\u001B[49m\u001B[43m,\u001B[49m\u001B[43m \u001B[49m\u001B[43mdowncast\u001B[49m\u001B[38;5;241;43m=\u001B[39;49m\u001B[38;5;124;43m'\u001B[39;49m\u001B[38;5;124;43minteger\u001B[39;49m\u001B[38;5;124;43m'\u001B[39;49m\u001B[43m)\u001B[49m\n\u001B[1;32m      3\u001B[0m df\u001B[38;5;241m.\u001B[39mdrop(df\u001B[38;5;241m.\u001B[39mloc[df[\u001B[38;5;124m'\u001B[39m\u001B[38;5;124mpres\u001B[39m\u001B[38;5;124m'\u001B[39m]\u001B[38;5;241m==\u001B[39m\u001B[38;5;124m'\u001B[39m\u001B[38;5;124mmq\u001B[39m\u001B[38;5;124m'\u001B[39m]\u001B[38;5;241m.\u001B[39mindex, inplace\u001B[38;5;241m=\u001B[39m\u001B[38;5;28;01mTrue\u001B[39;00m)\u001B[38;5;241m.\u001B[39mdrop(df\u001B[38;5;241m.\u001B[39mloc[df[\u001B[38;5;124m'\u001B[39m\u001B[38;5;124mu\u001B[39m\u001B[38;5;124m'\u001B[39m]\u001B[38;5;241m==\u001B[39m\u001B[38;5;124m'\u001B[39m\u001B[38;5;124mmq\u001B[39m\u001B[38;5;124m'\u001B[39m]\u001B[38;5;241m.\u001B[39mindex, inplace\u001B[38;5;241m=\u001B[39m\u001B[38;5;28;01mTrue\u001B[39;00m)\n\u001B[1;32m      4\u001B[0m df \u001B[38;5;241m=\u001B[39m df\u001B[38;5;241m.\u001B[39massign(df[\u001B[38;5;124m'\u001B[39m\u001B[38;5;124mstatus\u001B[39m\u001B[38;5;124m'\u001B[39m] \u001B[38;5;241m==\u001B[39m np\u001B[38;5;241m.\u001B[39mwhere(df[\u001B[38;5;124m'\u001B[39m\u001B[38;5;124mpres\u001B[39m\u001B[38;5;124m'\u001B[39m] \u001B[38;5;241m<\u001B[39m \u001B[38;5;241m101500\u001B[39m \u001B[38;5;129;01mand\u001B[39;00m df[\u001B[38;5;124m'\u001B[39m\u001B[38;5;124mpres\u001B[39m\u001B[38;5;124m'\u001B[39m] \u001B[38;5;241m>\u001B[39m \u001B[38;5;241m90000\u001B[39m, \u001B[38;5;241m1\u001B[39m))\n",
      "File \u001B[0;32m~/renduEpitech/MeteoProject/lib/python3.10/site-packages/pandas/core/tools/numeric.py:185\u001B[0m, in \u001B[0;36mto_numeric\u001B[0;34m(arg, errors, downcast)\u001B[0m\n\u001B[1;32m    183\u001B[0m coerce_numeric \u001B[38;5;241m=\u001B[39m errors \u001B[38;5;129;01mnot\u001B[39;00m \u001B[38;5;129;01min\u001B[39;00m (\u001B[38;5;124m\"\u001B[39m\u001B[38;5;124mignore\u001B[39m\u001B[38;5;124m\"\u001B[39m, \u001B[38;5;124m\"\u001B[39m\u001B[38;5;124mraise\u001B[39m\u001B[38;5;124m\"\u001B[39m)\n\u001B[1;32m    184\u001B[0m \u001B[38;5;28;01mtry\u001B[39;00m:\n\u001B[0;32m--> 185\u001B[0m     values, _ \u001B[38;5;241m=\u001B[39m \u001B[43mlib\u001B[49m\u001B[38;5;241;43m.\u001B[39;49m\u001B[43mmaybe_convert_numeric\u001B[49m\u001B[43m(\u001B[49m\n\u001B[1;32m    186\u001B[0m \u001B[43m        \u001B[49m\u001B[43mvalues\u001B[49m\u001B[43m,\u001B[49m\u001B[43m \u001B[49m\u001B[38;5;28;43mset\u001B[39;49m\u001B[43m(\u001B[49m\u001B[43m)\u001B[49m\u001B[43m,\u001B[49m\u001B[43m \u001B[49m\u001B[43mcoerce_numeric\u001B[49m\u001B[38;5;241;43m=\u001B[39;49m\u001B[43mcoerce_numeric\u001B[49m\n\u001B[1;32m    187\u001B[0m \u001B[43m    \u001B[49m\u001B[43m)\u001B[49m\n\u001B[1;32m    188\u001B[0m \u001B[38;5;28;01mexcept\u001B[39;00m (\u001B[38;5;167;01mValueError\u001B[39;00m, \u001B[38;5;167;01mTypeError\u001B[39;00m):\n\u001B[1;32m    189\u001B[0m     \u001B[38;5;28;01mif\u001B[39;00m errors \u001B[38;5;241m==\u001B[39m \u001B[38;5;124m\"\u001B[39m\u001B[38;5;124mraise\u001B[39m\u001B[38;5;124m\"\u001B[39m:\n",
      "File \u001B[0;32m~/renduEpitech/MeteoProject/lib/python3.10/site-packages/pandas/_libs/lib.pyx:2411\u001B[0m, in \u001B[0;36mpandas._libs.lib.maybe_convert_numeric\u001B[0;34m()\u001B[0m\n",
      "\u001B[0;31mValueError\u001B[0m: Unable to parse string \"mq\" at position 2988"
     ]
    }
   ],
   "source": [
    "import numpy as np\n",
    "df['t'] = pd.to_numeric(df['pres'], downcast='integer')\n",
    "df.drop(df.loc[df['pres']=='mq'].index, inplace=True).drop(df.loc[df['u']=='mq'].index, inplace=True)\n",
    "df = df.assign(df['status'] == np.where(df['pres'] < 101500 and df['pres'] > 90000, 1))"
   ],
   "metadata": {
    "collapsed": false
   }
  },
  {
   "cell_type": "code",
   "execution_count": null,
   "outputs": [],
   "source": [],
   "metadata": {
    "collapsed": false
   }
  }
 ],
 "metadata": {
  "kernelspec": {
   "display_name": "Python 3",
   "language": "python",
   "name": "python3"
  },
  "language_info": {
   "codemirror_mode": {
    "name": "ipython",
    "version": 2
   },
   "file_extension": ".py",
   "mimetype": "text/x-python",
   "name": "python",
   "nbconvert_exporter": "python",
   "pygments_lexer": "ipython2",
   "version": "2.7.6"
  }
 },
 "nbformat": 4,
 "nbformat_minor": 0
}
